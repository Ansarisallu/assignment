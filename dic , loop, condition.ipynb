{
 "cells": [
  {
   "cell_type": "code",
   "execution_count": 6,
   "id": "56a69c82-4c60-46db-8004-bd0d0b253edd",
   "metadata": {},
   "outputs": [
    {
     "name": "stdout",
     "output_type": "stream",
     "text": [
      "['SALLU', 'BALLU', 'KALLU', 'GALLU']\n"
     ]
    }
   ],
   "source": [
    "l1=[]\n",
    "l=[\"sallu\",\"ballu\", \"kallu\",\"gallu\"]\n",
    "for i in l:\n",
    "    l1.append(i.upper())\n",
    "print(l1)  \n"
   ]
  },
  {
   "cell_type": "code",
   "execution_count": 10,
   "id": "e3d16369-1d62-4834-ab12-15c03562c723",
   "metadata": {},
   "outputs": [
    {
     "name": "stdout",
     "output_type": "stream",
     "text": [
      "[1, 2, 3, 4, 5, 6, 7, 8.9] ['sallu', 'ballu', 'lallu']\n"
     ]
    }
   ],
   "source": [
    "l1=[]\n",
    "l2=[]\n",
    "l=[1,2,3,4,5,6,\"sallu\",\"ballu\",7,8.9,\"lallu\"]\n",
    "\n",
    "for i in l:\n",
    "    if type(i)== int or type(i)==float:\n",
    "        l1.append(i)\n",
    "    elif type(i)==str :\n",
    "        l2.append(i)\n",
    "        \n",
    "print(l1,l2)\n",
    "        "
   ]
  }
 ],
 "metadata": {
  "kernelspec": {
   "display_name": "Python 3 (ipykernel)",
   "language": "python",
   "name": "python3"
  },
  "language_info": {
   "codemirror_mode": {
    "name": "ipython",
    "version": 3
   },
   "file_extension": ".py",
   "mimetype": "text/x-python",
   "name": "python",
   "nbconvert_exporter": "python",
   "pygments_lexer": "ipython3",
   "version": "3.10.8"
  }
 },
 "nbformat": 4,
 "nbformat_minor": 5
}
